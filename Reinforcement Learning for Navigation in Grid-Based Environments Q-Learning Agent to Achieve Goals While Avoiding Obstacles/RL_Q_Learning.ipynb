{
 "cells": [
  {
   "cell_type": "markdown",
   "id": "7188353a-62c0-45c1-819f-e48344a8e3b4",
   "metadata": {},
   "source": [
    "# Reinforcement Learning for Navigation in Grid-Based Environments: Q-Learning Agent to Achieve Goals While Avoiding Obstacles"
   ]
  },
  {
   "cell_type": "markdown",
   "id": "016a7c70-b70e-479e-8d43-21095344f3f7",
   "metadata": {},
   "source": [
    "## Introduction"
   ]
  },
  {
   "cell_type": "markdown",
   "id": "b06163ce-7e86-4b25-9910-27684a3e894e",
   "metadata": {},
   "source": [
    "In this project, I want to demonstrate the implementation of a Reinforcement Learning (RL) algorithm, specially Q-Learning, to train an agent in a simple grid-based environment. The agent must navigate from a starting position to a goal while avoiding obstacles, learning through trial and error. The environment provides feedback using a reward system, encouraging the agent to achieve the goal efficiently while minimizing collisions and unnecessary movements. By using concepts such as exploration vs. exploitation, state-action learning, and reward-based feedback, this project provides an intuitive understanding of RL fundamentals. It also incorporates performance visualization, allowing an analysis of the agent's improvement over time. The project is a foundational step toward understanding RL concepts and their practical applications in AI and robotics."
   ]
  },
  {
   "cell_type": "markdown",
   "id": "1be04dec-1443-49eb-ba23-f392756efe08",
   "metadata": {},
   "source": [
    "## Breaking the Project Down"
   ]
  },
  {
   "cell_type": "markdown",
   "id": "45c3137c-5a60-49de-8737-2bb336ccdf8b",
   "metadata": {},
   "source": [
    "As mentionned before, this script implements a Reinforcement Learning (RL) algorithm using Q-Learning to train an agent in a grid-based environment. The agent learns to navigate toward a goal (green circle) while avoiding obstacles (red circles). Here’s a detailed breakdown:"
   ]
  },
  {
   "cell_type": "markdown",
   "id": "c235a348-a40b-418c-8e53-98542fffda71",
   "metadata": {},
   "source": [
    "#### Concepts Demonstrated"
   ]
  },
  {
   "cell_type": "markdown",
   "id": "fb9cab1a-7fd5-4927-b4f2-208efdc86ce8",
   "metadata": {},
   "source": [
    "1. Reinforcement Learning Basics:\n",
    "   * State, action, reward, policy.\n",
    "   * Q-Learning for policy optimization.\n",
    "2. Q-Learning Key Features:\n",
    "   * Off-policy learning: Does not require learning from trajectories that follow the optimal policy.\n",
    "   * Value-based method: Learns the utility of state-action pairs.\n",
    "3. Agent Training:\n",
    "   * Explores initially and gradually exploits learned knowledge.\n",
    "   * Improves efficiency and avoids penalties over time."
   ]
  },
  {
   "cell_type": "markdown",
   "id": "4e08bc74-feba-4713-beb8-43453550e852",
   "metadata": {},
   "source": [
    "#### 1. Environment Setup"
   ]
  },
  {
   "cell_type": "markdown",
   "id": "a4477624-85d7-4ebe-a0da-511f8ae98151",
   "metadata": {},
   "source": [
    "The game grid represents the environment: \n",
    "* **State Space**: The grid cells represent states; each cell is identified by its row and column position.\n",
    "* **Action Space**: The agent can take one of four actions at each step:\n",
    "  * 0: Move up\n",
    "  * 1: Move down\n",
    "  * 2: Move left\n",
    "  * 3: Move right\n",
    "* **Reward System**:\n",
    "  * +100: Reaching the goal (green circle)\n",
    "  * -50: Colliding with an obstacle (red circles)\n",
    "  * -0.1: Small penalty for every move to encourage efficient paths"
   ]
  },
  {
   "cell_type": "markdown",
   "id": "ff560137-7fc4-4dbc-b639-b2609fe7f3e2",
   "metadata": {},
   "source": [
    "#### 2. Reinforcement Learning Algorithm"
   ]
  },
  {
   "cell_type": "markdown",
   "id": "a02ba556-714c-4374-a78c-92caf42f6bc3",
   "metadata": {},
   "source": [
    "The script uses Q-Learning, a model-free RL algorithm that learns an optimal policy for decision-making. Here’s how Q-Learning works in this script: <br />\n",
    "1. **Q-Table**\n",
    "   * The Q-Table is a 3D matrix:\n",
    "     * Dimensions: (number_of_rows, number_of_columns, number_of_actions)\n",
    "     * Each entry $Q(s,a)$ stores the estimated utility (expected reward) of taking action $a$ in state        $s$\n",
    "  \n",
    "2. **Q-Value Update Rule**\n",
    "\n",
    "    When the agent takes an action, the Q-value for the current state-action pair is updated using the formula: $Q(s,a)←Q(s,a)+α(r+γ maxQ(s′,a′)−Q(s,a))$\n",
    "\n",
    "    Where:\n",
    "   * **$α$ (Learning Rate)**: Determines how much new information overrides the old value.\n",
    "   * **$γ$ (Discount Factor)**: Controls how much future rewards are valued compared to immediate rewards.\n",
    "   * **$r$**: The reward received after taking action $𝑎$ a from state $𝑠$.\n",
    "   * **$max_{a′}Q(s′,a′)$**: The maximum expected reward from the next state $𝑠′$.\n",
    "3. **Exploration vs. Exploitation**\n",
    "\n",
    "   The agent balances exploration (choosing random actions to explore the environment) and exploitation (choosing actions with the highest Q-value) using the epsilon-greedy strategy:\n",
    "\n",
    "   * A random action is chosen with probability **$𝜖$** (exploration).\n",
    "   * The action with the highest Q-value is chosen with probability $1 − 𝜖$ (exploitation).\n",
    "   * $ϵ$ decays over time, encouraging the agent to exploit more as it learns.\n",
    "4. **Reward Feedback**\n",
    "\n",
    "    Rewards guide the agent toward better behavior:\n",
    "\n",
    "   * A positive reward for reaching the goal encourages the agent to aim for the goal.\n",
    "   * A negative reward for hitting obstacles penalizes unsafe actions.\n",
    "   * A small penalty for moving ensures the agent minimizes unnecessary steps."
   ]
  },
  {
   "cell_type": "markdown",
   "id": "bdb541d0-05fc-486a-a47c-64d3cb377d87",
   "metadata": {},
   "source": [
    "#### 3. Game Logic"
   ]
  },
  {
   "cell_type": "markdown",
   "id": "260e6a71-9d6b-41d6-8b69-d65fb02b2ff4",
   "metadata": {},
   "source": [
    "**Initialization**:\n",
    "  * **Grid Setup**: The environment is a fixed grid (5x5 in this case).\n",
    "  * **Agent Placement**: Starts at the top-left corner.\n",
    "  * **Goal and Obstacles**: Fixed positions for consistent learning.\n",
    "\n",
    "**Training Loop**:\n",
    "  * The agent selects an action (exploration or exploitation).\n",
    "  * The action is executed, updating the agent's position.\n",
    "  * The reward for the action is calculated.\n",
    "  * The Q-value is updated using the Q-Learning formula.\n",
    "  * If the agent reaches the goal or hits an obstacle, the episode ends, and the agent resets.\n",
    "\n",
    "**Metrics Tracking**:\n",
    "  * **Scores**: Tracks rewards accumulated in each episode.\n",
    "  * **Steps Per Episode**: Tracks how many moves the agent took.\n",
    "  * **Exploration Decay**: Epsilon decays to encourage exploitation over time."
   ]
  },
  {
   "cell_type": "markdown",
   "id": "e18f6ea6-a34c-4cf5-a453-e61144443c41",
   "metadata": {},
   "source": [
    "#### 4. Key Parameters"
   ]
  },
  {
   "cell_type": "markdown",
   "id": "ce685491-a49b-4ccd-9798-305e7e9317d7",
   "metadata": {},
   "source": [
    "* **Learning Rate $(𝛼 = 0.1)$**: Determines the impact of new information on the Q-values.\n",
    "* **Discount Factor $(𝛾 = 0.9)$**: Prioritizes future rewards while still valuing immediate ones.\n",
    "* **Exploration Rate $(𝜖 = 0.3)$**: Encourages exploration initially, then reduces gradually."
   ]
  },
  {
   "cell_type": "markdown",
   "id": "f635d60a-e232-48b4-a39c-ac24787d9f59",
   "metadata": {},
   "source": [
    "#### 5. Visualization and Evaluation"
   ]
  },
  {
   "cell_type": "markdown",
   "id": "cc2de87f-fac3-4d25-a9f3-ef906025ed98",
   "metadata": {},
   "source": [
    "* **Grid Visualization**: Displays the agent, goal, and obstacles.\n",
    "* **Metrics Plots**:\n",
    "    * **Scores**: Evaluates performance improvement over episodes.\n",
    "    * **Steps**: Tracks learning efficiency (fewer steps indicate better learning).\n",
    "* **Episode Logging**: Prints score, steps, and time for each episode."
   ]
  },
  {
   "cell_type": "markdown",
   "id": "9b57f3ca-96af-4275-9056-b377987b5d54",
   "metadata": {},
   "source": [
    "#### 6. Improvements Over Time"
   ]
  },
  {
   "cell_type": "markdown",
   "id": "96cb4b5f-daf2-49a7-85fb-0337f7a3035e",
   "metadata": {},
   "source": [
    "The agent initially explores, making random actions and colliding with obstacles. As training progresses:\n",
    "\n",
    "  * The agent learns to avoid obstacles by associating actions leading to them with negative rewards.\n",
    "  * It learns the shortest path to the goal due to positive reinforcement."
   ]
  },
  {
   "cell_type": "markdown",
   "id": "5a381d47-6e4d-4235-9dd2-7b6afdf9ed23",
   "metadata": {},
   "source": [
    "## Breaking the Script Down"
   ]
  },
  {
   "cell_type": "markdown",
   "id": "3183856f-5221-494a-8bb0-060e2ebd1023",
   "metadata": {},
   "source": [
    "#### Imports"
   ]
  },
  {
   "cell_type": "markdown",
   "id": "de2da592-2abf-45fe-beba-975a1d546bc0",
   "metadata": {},
   "source": [
    "In this cell, let's import **pygame** library for creating games and handling graphics and events. We will use it to render the grid, agent, and rewards. We will import **numpy** for numerical computations, and it will be used to initialize and manager the Q-table. Also, we will need **random** and **time** for randomness and duration measurment of each episode. Finally, the **matplotlib** for visualizing metrics like scoes and steps per episode."
   ]
  },
  {
   "cell_type": "code",
   "execution_count": 2,
   "id": "5f4439ab-6604-4e23-aae2-09d6e8462d23",
   "metadata": {},
   "outputs": [],
   "source": [
    "import pygame\n",
    "import numpy as np\n",
    "import random\n",
    "import time\n",
    "import matplotlib.pyplot as plt"
   ]
  },
  {
   "cell_type": "markdown",
   "id": "e5118273-40e5-45f1-9c5b-680f17f07ade",
   "metadata": {},
   "source": [
    "#### Game Setup"
   ]
  },
  {
   "cell_type": "markdown",
   "id": "c8510fea-bad0-4fa5-9c7b-8e8c1eba13cd",
   "metadata": {},
   "source": [
    "Here we will initialize the Pygame library and sets up the necessary modules for graphics and events. We will define the screen dimensions to be 400x400 pixels, and the size of each cell in the grid to be 80x80 pixels. The **ROWS** and **COLS** store the number of rows and columns in the grid (5x5).\n",
    "\n",
    "We will define colors in RGB format. They are used to render the agent, goal, and obstacles. Then, we will create the game window using the function **pygame.display.set_mode()** and set the title to \"Reinforcement Learning Game\".\n",
    "\n",
    "Finally, we will define game elements, starting by the agent that starts at the top-left corner ([0,0]), the goal position (the green circle), which is at the bottom-right corner ([4,4]), and the red circles (obstacles) placed at some fixed positions."
   ]
  },
  {
   "cell_type": "code",
   "execution_count": 3,
   "id": "5aded849-0d77-4107-bb0a-67633de99d9b",
   "metadata": {},
   "outputs": [],
   "source": [
    "pygame.init()\n",
    "\n",
    "WIDTH, HEIGHT = 400, 400\n",
    "GRID_SIZE = 80\n",
    "ROWS, COLS = HEIGHT // GRID_SIZE, WIDTH // GRID_SIZE\n",
    "\n",
    "WHITE = (255, 255, 255)\n",
    "BLACK = (0, 0, 0)\n",
    "RED = (255, 0, 0)\n",
    "BLUE = (0, 0, 255)\n",
    "GREEN = (0, 255, 0)\n",
    "\n",
    "screen = pygame.display.set_mode((WIDTH, HEIGHT))\n",
    "pygame.display.set_caption(\"Reinforcement Learning Game\")\n",
    "\n",
    "agent_pos = [0, 0]\n",
    "goal_pos = [ROWS - 1, COLS - 1]\n",
    "red_circles = [[2, 3], [4, 2]]  # Fixed positions for negative rewards\n",
    "green_circle = [ROWS - 1, COLS - 1]  # Goal"
   ]
  },
  {
   "cell_type": "markdown",
   "id": "cdcdd7af-75f5-481e-88c7-f132662912b9",
   "metadata": {},
   "source": [
    "#### Q-Learning Setup"
   ]
  },
  {
   "cell_type": "markdown",
   "id": "1deca6fa-2d9a-49d4-8eb8-cdfc84b62c2f",
   "metadata": {},
   "source": [
    "In the following, we will start by initializing the Q-table, which is a 3D array where each state-action pair has a Q-value. Its dimensions are **ROWS x COLS x ACTIONS**.\n",
    "\n",
    "Further, we will define RL parameters:\n",
    "* Learning Rate: which determines how much new information overrivides old Q-value.\n",
    "* Discount Rate: that balances immediate vs. future rewards.\n",
    "* Epsilon: which controls exploration (random actions) vs. exploitation (choosing the best action).\n",
    "\n",
    "Then, We need to track performance metrics for each episode. So we will have **scores**, the total rewards per episode, **time_spent**, the duration of each episode, and **steps_per_episode**, the number of steps taken."
   ]
  },
  {
   "cell_type": "code",
   "execution_count": 5,
   "id": "4821a0b9-92fb-4198-b95f-482d216e01ae",
   "metadata": {},
   "outputs": [],
   "source": [
    "Q_table = np.zeros((ROWS, COLS, 4))  # Actions: 0=up, 1=down, 2=left, 3=right\n",
    "\n",
    "LEARNING_RATE = 0.1\n",
    "DISCOUNT_FACTOR = 0.9\n",
    "EPSILON = 0.3\n",
    "\n",
    "scores = []\n",
    "time_spent = []\n",
    "steps_per_episode = []\n",
    "start_time = time.time()\n",
    "score = 0\n",
    "steps = 0"
   ]
  },
  {
   "cell_type": "markdown",
   "id": "b34297bf-44a0-4fa9-b027-3ac46628b83d",
   "metadata": {},
   "source": [
    "#### Helper Functions"
   ]
  },
  {
   "cell_type": "markdown",
   "id": "3596c283-0210-436f-98c8-3889885db16b",
   "metadata": {},
   "source": [
    "First of all we will define the function **reset()**, which resets the agent's position, score, and step counter for a new episode.\n",
    "\n",
    "We will draw the grid and visualize the goal, obstacles, and agent on the screen, using the **draw_grid()** function. \n",
    "\n",
    "Then, we will go to update the agent's position based on the chosen action using **move_agent()** function.\n",
    "\n",
    "After that, using the **get_reward()** function, we will be able to calculate the rewards:\n",
    "  * +100 for reaching the goal.\n",
    "  * -50 for hitting an obstacle.\n",
    "  * -0.1 for each step to discourage unnecessary movement.\n",
    "\n",
    "Then, we will train the Q_Learning by using the **train_q_learning()** based on the **Exploration vs. Exploitation** concept:\n",
    "  * With probability $𝜖$, choose a random action (exploration).\n",
    "  * Otherwise, choose the action with the highest Q-value (exploitation).\n",
    "\n",
    "Finally, we will visualize performance metrics (scores and steps) over episodes using **plot_metrics()** function."
   ]
  },
  {
   "cell_type": "code",
   "execution_count": 6,
   "id": "3fe3d6a5-4f63-4aba-ab88-02ffa60ee2b1",
   "metadata": {},
   "outputs": [],
   "source": [
    "def reset():\n",
    "    \"\"\"Reset the agent's position and environment.\"\"\"\n",
    "    global agent_pos, score, steps, start_time\n",
    "    agent_pos = [0, 0]\n",
    "    start_time = time.time()\n",
    "    steps = 0  # Reset step counter for the episode\n",
    "\n",
    "\n",
    "def draw_grid():\n",
    "    \"\"\"Draw the grid, agent, and rewards.\"\"\"\n",
    "    screen.fill(WHITE)\n",
    "    for x in range(0, WIDTH, GRID_SIZE):\n",
    "        pygame.draw.line(screen, BLACK, (x, 0), (x, HEIGHT))\n",
    "    for y in range(0, HEIGHT, GRID_SIZE):\n",
    "        pygame.draw.line(screen, BLACK, (0, y), (WIDTH, y))\n",
    "\n",
    "    # Draw goal (green circle)\n",
    "    pygame.draw.circle(screen, GREEN,\n",
    "                       (green_circle[1] * GRID_SIZE + GRID_SIZE // 2, green_circle[0] * GRID_SIZE + GRID_SIZE // 2),\n",
    "                       GRID_SIZE // 3)\n",
    "    # Draw negative rewards (red circles)\n",
    "    for red in red_circles:\n",
    "        pygame.draw.circle(screen, RED, (red[1] * GRID_SIZE + GRID_SIZE // 2, red[0] * GRID_SIZE + GRID_SIZE // 2),\n",
    "                           GRID_SIZE // 3)\n",
    "    # Draw agent\n",
    "    pygame.draw.rect(screen, BLUE, (agent_pos[1] * GRID_SIZE, agent_pos[0] * GRID_SIZE, GRID_SIZE, GRID_SIZE))\n",
    "\n",
    "\n",
    "def move_agent(action):\n",
    "    \"\"\"Move the agent based on the selected action.\"\"\"\n",
    "    global agent_pos\n",
    "    if action == 0 and agent_pos[0] > 0:  # Up\n",
    "        agent_pos[0] -= 1\n",
    "    elif action == 1 and agent_pos[0] < ROWS - 1:  # Down\n",
    "        agent_pos[0] += 1\n",
    "    elif action == 2 and agent_pos[1] > 0:  # Left\n",
    "        agent_pos[1] -= 1\n",
    "    elif action == 3 and agent_pos[1] < COLS - 1:  # Right\n",
    "        agent_pos[1] += 1\n",
    "\n",
    "\n",
    "def get_reward():\n",
    "    \"\"\"Return the reward for the agent's position.\"\"\"\n",
    "    global score\n",
    "    if agent_pos == green_circle:\n",
    "        score += 100\n",
    "        return 100  # Reward for reaching the goal\n",
    "    elif agent_pos in red_circles:\n",
    "        score -= 50\n",
    "        return -50  # Penalty for eating a red circle\n",
    "    else:\n",
    "        score -= 0.1  # Small penalty for each move\n",
    "        return -0.1\n",
    "\n",
    "\n",
    "def train_q_learning():\n",
    "    \"\"\"Train the agent using Q-Learning.\"\"\"\n",
    "    global EPSILON, steps\n",
    "    state = tuple(agent_pos)\n",
    "    action = random.choice(range(4)) if random.uniform(0, 1) < EPSILON else np.argmax(Q_table[state])\n",
    "    old_pos = list(agent_pos)  # Save old position\n",
    "    move_agent(action)\n",
    "    steps += 1\n",
    "    reward = get_reward()\n",
    "    next_state = tuple(agent_pos)\n",
    "\n",
    "    # Q-Learning update rule\n",
    "    Q_table[state][action] += LEARNING_RATE * (\n",
    "                reward + DISCOUNT_FACTOR * np.max(Q_table[next_state]) - Q_table[state][action])\n",
    "\n",
    "    # Reset agent if goal or red circle reached\n",
    "    if agent_pos == green_circle or agent_pos in red_circles:\n",
    "        scores.append(score)\n",
    "        steps_per_episode.append(steps)\n",
    "        time_spent.append(time.time() - start_time)\n",
    "        print(f\"Episode {len(scores)}: Score = {score}, Steps = {steps}, Time = {time_spent[-1]:.2f}s\")\n",
    "        reset()\n",
    "\n",
    "    EPSILON = max(0.01, EPSILON * 0.995)  # Gradually reduce exploration\n",
    "\n",
    "\n",
    "def plot_metrics():\n",
    "    \"\"\"Plot scores and time spent after training.\"\"\"\n",
    "    plt.figure(figsize=(10, 5))\n",
    "    plt.subplot(1, 2, 1)\n",
    "    plt.plot(scores, label=\"Score\")\n",
    "    plt.xlabel(\"Episode\")\n",
    "    plt.ylabel(\"Score\")\n",
    "    plt.title(\"Scores Over Time\")\n",
    "    plt.legend()\n",
    "\n",
    "    plt.subplot(1, 2, 2)\n",
    "    plt.plot(steps_per_episode, label=\"Steps\")\n",
    "    plt.xlabel(\"Episode\")\n",
    "    plt.ylabel(\"Steps Taken\")\n",
    "    plt.title(\"Steps Per Episode\")\n",
    "    plt.legend()\n",
    "\n",
    "    plt.tight_layout()\n",
    "    plt.show()"
   ]
  },
  {
   "cell_type": "markdown",
   "id": "a8bfc703-ba51-45c6-974a-e6480087598d",
   "metadata": {},
   "source": [
    "#### Main Function"
   ]
  },
  {
   "cell_type": "markdown",
   "id": "57325d7b-7f3e-473d-b2b2-f705a8f3c34c",
   "metadata": {},
   "source": [
    "Here, we will run the training loop for a specified number of episodes, and call the training, drawing, and evaluation functions."
   ]
  },
  {
   "cell_type": "code",
   "execution_count": 7,
   "id": "bfd4400e-14cb-41dd-9f78-01e6bbe66c73",
   "metadata": {},
   "outputs": [],
   "source": [
    "def main():\n",
    "    clock = pygame.time.Clock()\n",
    "    running = True\n",
    "    episodes = 0\n",
    "    max_episodes = 500\n",
    "\n",
    "    while running and episodes < max_episodes:\n",
    "        for event in pygame.event.get():\n",
    "            if event.type == pygame.QUIT:\n",
    "                running = False\n",
    "\n",
    "        train_q_learning()\n",
    "        draw_grid()\n",
    "        pygame.display.flip()\n",
    "        clock.tick(10)\n",
    "        episodes += 1\n",
    "\n",
    "    pygame.quit()\n",
    "    plot_metrics()"
   ]
  },
  {
   "cell_type": "markdown",
   "id": "c01cf849-4ae6-4477-9080-50933740660b",
   "metadata": {},
   "source": [
    "#### The Whole Script"
   ]
  },
  {
   "cell_type": "code",
   "execution_count": 1,
   "id": "87592c56-5007-42a0-ac4c-f1c41e78aba0",
   "metadata": {},
   "outputs": [
    {
     "name": "stdout",
     "output_type": "stream",
     "text": [
      "pygame 2.6.1 (SDL 2.28.4, Python 3.12.4)\n",
      "Hello from the pygame community. https://www.pygame.org/contribute.html\n",
      "Episode 1: Score = -53.4, Steps = 35, Time = 3.41s\n",
      "Episode 2: Score = -105.10000000000002, Steps = 18, Time = 1.82s\n",
      "Episode 3: Score = -160.39999999999972, Steps = 54, Time = 5.42s\n",
      "Episode 4: Score = -217.09999999999934, Steps = 68, Time = 6.82s\n",
      "Episode 5: Score = -268.9999999999992, Steps = 20, Time = 2.00s\n",
      "Episode 6: Score = -321.1999999999997, Steps = 23, Time = 2.31s\n",
      "Episode 7: Score = -229.1000000000015, Steps = 80, Time = 9.16s\n",
      "Episode 8: Score = -131.40000000000137, Steps = 24, Time = 2.41s\n",
      "Episode 9: Score = -36.70000000000107, Steps = 54, Time = 5.42s\n",
      "Episode 10: Score = 54.89999999999881, Steps = 85, Time = 8.53s\n",
      "Episode 11: Score = 151.29999999999876, Steps = 37, Time = 3.72s\n",
      "Episode 12: Score = 249.39999999999887, Steps = 20, Time = 2.00s\n",
      "Episode 13: Score = 346.199999999999, Steps = 33, Time = 3.31s\n",
      "Episode 14: Score = 443.4999999999984, Steps = 28, Time = 2.81s\n",
      "Episode 15: Score = 542.7999999999982, Steps = 8, Time = 0.80s\n",
      "Episode 16: Score = 641.1999999999979, Steps = 17, Time = 1.70s\n",
      "Episode 17: Score = 739.8999999999976, Steps = 14, Time = 1.40s\n",
      "Episode 18: Score = 838.6999999999973, Steps = 13, Time = 1.31s\n",
      "Episode 19: Score = 937.299999999997, Steps = 15, Time = 1.50s\n",
      "Episode 20: Score = 1036.399999999997, Steps = 10, Time = 1.00s\n",
      "Episode 21: Score = 1135.3999999999978, Steps = 11, Time = 1.10s\n",
      "Episode 22: Score = 1234.2999999999988, Steps = 12, Time = 1.20s\n",
      "Episode 23: Score = 1332.3000000000006, Steps = 21, Time = 2.11s\n",
      "Episode 24: Score = 1431.2000000000016, Steps = 12, Time = 1.21s\n",
      "Episode 25: Score = 1530.2000000000025, Steps = 11, Time = 1.11s\n",
      "Episode 26: Score = 1629.5000000000032, Steps = 8, Time = 0.80s\n",
      "Episode 27: Score = 1728.600000000004, Steps = 10, Time = 1.00s\n",
      "Episode 28: Score = 1827.7000000000048, Steps = 10, Time = 1.00s\n",
      "Episode 29: Score = 1927.0000000000055, Steps = 8, Time = 0.80s\n",
      "Episode 30: Score = 2026.0000000000064, Steps = 11, Time = 1.10s\n",
      "Episode 31: Score = 2125.200000000007, Steps = 9, Time = 0.90s\n",
      "Episode 32: Score = 2224.400000000008, Steps = 9, Time = 0.90s\n",
      "Episode 33: Score = 2323.7000000000085, Steps = 8, Time = 0.80s\n",
      "Episode 34: Score = 2423.000000000009, Steps = 8, Time = 0.80s\n",
      "Episode 35: Score = 2522.3000000000097, Steps = 8, Time = 0.80s\n",
      "Episode 36: Score = 2621.6000000000104, Steps = 8, Time = 0.80s\n",
      "Episode 37: Score = 2720.900000000011, Steps = 8, Time = 0.80s\n",
      "Episode 38: Score = 2820.2000000000116, Steps = 8, Time = 0.80s\n",
      "Episode 39: Score = 2919.4000000000124, Steps = 9, Time = 0.90s\n",
      "Episode 40: Score = 3018.700000000013, Steps = 8, Time = 0.80s\n",
      "Episode 41: Score = 3118.0000000000136, Steps = 8, Time = 0.80s\n",
      "Episode 42: Score = 3217.3000000000143, Steps = 8, Time = 0.80s\n",
      "Episode 43: Score = 3316.600000000015, Steps = 8, Time = 0.80s\n",
      "Episode 44: Score = 3415.9000000000156, Steps = 8, Time = 0.80s\n",
      "Episode 45: Score = 3515.200000000016, Steps = 8, Time = 0.80s\n",
      "Episode 46: Score = 3614.500000000017, Steps = 8, Time = 0.80s\n",
      "Episode 47: Score = 3713.8000000000175, Steps = 8, Time = 0.80s\n",
      "Episode 48: Score = 3813.100000000018, Steps = 8, Time = 0.80s\n",
      "Episode 49: Score = 3912.4000000000187, Steps = 8, Time = 0.80s\n",
      "Episode 50: Score = 4011.7000000000194, Steps = 8, Time = 0.80s\n",
      "Episode 51: Score = 4111.00000000002, Steps = 8, Time = 0.80s\n",
      "Episode 52: Score = 4210.100000000017, Steps = 10, Time = 1.01s\n",
      "Episode 53: Score = 4309.400000000014, Steps = 8, Time = 0.81s\n",
      "Episode 54: Score = 4408.700000000012, Steps = 8, Time = 0.81s\n",
      "Episode 55: Score = 4508.000000000009, Steps = 8, Time = 0.80s\n",
      "Episode 56: Score = 4607.300000000007, Steps = 8, Time = 0.80s\n",
      "Episode 57: Score = 4706.600000000004, Steps = 8, Time = 0.80s\n",
      "Episode 58: Score = 4805.9000000000015, Steps = 8, Time = 0.81s\n"
     ]
    },
    {
     "data": {
      "image/png": "[encoded data removed]",
      "text/plain": [
       "<Figure size 1000x500 with 2 Axes>"
      ]
     },
     "metadata": {},
     "output_type": "display_data"
    }
   ],
   "source": [
    "import pygame\n",
    "import numpy as np\n",
    "import random\n",
    "import matplotlib.pyplot as plt\n",
    "import time\n",
    "\n",
    "# Initialize pygame\n",
    "pygame.init()\n",
    "\n",
    "# Screen dimensions\n",
    "WIDTH, HEIGHT = 400, 400\n",
    "GRID_SIZE = 80\n",
    "ROWS, COLS = HEIGHT // GRID_SIZE, WIDTH // GRID_SIZE\n",
    "\n",
    "# Colors\n",
    "WHITE = (255, 255, 255)\n",
    "BLACK = (0, 0, 0)\n",
    "RED = (255, 0, 0)\n",
    "BLUE = (0, 0, 255)\n",
    "GREEN = (0, 255, 0)\n",
    "\n",
    "# Initialize screen\n",
    "screen = pygame.display.set_mode((WIDTH, HEIGHT))\n",
    "pygame.display.set_caption(\"Reinforcement Learning Game\")\n",
    "\n",
    "# Agent and rewards\n",
    "agent_pos = [0, 0]\n",
    "goal_pos = [ROWS - 1, COLS - 1]\n",
    "red_circles = [[2, 3], [4, 2]]  # Fixed positions for negative rewards\n",
    "green_circle = [ROWS - 1, COLS - 1]  # Goal\n",
    "\n",
    "# Q-Learning parameters\n",
    "Q_table = np.zeros((ROWS, COLS, 4))  # Actions: 0=up, 1=down, 2=left, 3=right\n",
    "LEARNING_RATE = 0.1\n",
    "DISCOUNT_FACTOR = 0.9\n",
    "EPSILON = 0.3  # Exploration vs Exploitation\n",
    "\n",
    "# Metrics\n",
    "scores = []\n",
    "time_spent = []\n",
    "steps_per_episode = []\n",
    "start_time = time.time()\n",
    "score = 0\n",
    "steps = 0\n",
    "\n",
    "\n",
    "def reset():\n",
    "    \"\"\"Reset the agent's position and environment.\"\"\"\n",
    "    global agent_pos, score, steps, start_time\n",
    "    agent_pos = [0, 0]\n",
    "    start_time = time.time()\n",
    "    steps = 0  # Reset step counter for the episode\n",
    "\n",
    "\n",
    "def draw_grid():\n",
    "    \"\"\"Draw the grid, agent, and rewards.\"\"\"\n",
    "    screen.fill(WHITE)\n",
    "    for x in range(0, WIDTH, GRID_SIZE):\n",
    "        pygame.draw.line(screen, BLACK, (x, 0), (x, HEIGHT))\n",
    "    for y in range(0, HEIGHT, GRID_SIZE):\n",
    "        pygame.draw.line(screen, BLACK, (0, y), (WIDTH, y))\n",
    "\n",
    "    # Draw goal (green circle)\n",
    "    pygame.draw.circle(screen, GREEN,\n",
    "                       (green_circle[1] * GRID_SIZE + GRID_SIZE // 2, green_circle[0] * GRID_SIZE + GRID_SIZE // 2),\n",
    "                       GRID_SIZE // 3)\n",
    "    # Draw negative rewards (red circles)\n",
    "    for red in red_circles:\n",
    "        pygame.draw.circle(screen, RED, (red[1] * GRID_SIZE + GRID_SIZE // 2, red[0] * GRID_SIZE + GRID_SIZE // 2),\n",
    "                           GRID_SIZE // 3)\n",
    "    # Draw agent\n",
    "    pygame.draw.rect(screen, BLUE, (agent_pos[1] * GRID_SIZE, agent_pos[0] * GRID_SIZE, GRID_SIZE, GRID_SIZE))\n",
    "\n",
    "\n",
    "def move_agent(action):\n",
    "    \"\"\"Move the agent based on the selected action.\"\"\"\n",
    "    global agent_pos\n",
    "    if action == 0 and agent_pos[0] > 0:  # Up\n",
    "        agent_pos[0] -= 1\n",
    "    elif action == 1 and agent_pos[0] < ROWS - 1:  # Down\n",
    "        agent_pos[0] += 1\n",
    "    elif action == 2 and agent_pos[1] > 0:  # Left\n",
    "        agent_pos[1] -= 1\n",
    "    elif action == 3 and agent_pos[1] < COLS - 1:  # Right\n",
    "        agent_pos[1] += 1\n",
    "\n",
    "\n",
    "def get_reward():\n",
    "    \"\"\"Return the reward for the agent's position.\"\"\"\n",
    "    global score\n",
    "    if agent_pos == green_circle:\n",
    "        score += 100\n",
    "        return 100  # Reward for reaching the goal\n",
    "    elif agent_pos in red_circles:\n",
    "        score -= 50\n",
    "        return -50  # Penalty for eating a red circle\n",
    "    else:\n",
    "        score -= 0.1  # Small penalty for each move\n",
    "        return -0.1\n",
    "\n",
    "\n",
    "def train_q_learning():\n",
    "    \"\"\"Train the agent using Q-Learning.\"\"\"\n",
    "    global EPSILON, steps\n",
    "    state = tuple(agent_pos)\n",
    "    action = random.choice(range(4)) if random.uniform(0, 1) < EPSILON else np.argmax(Q_table[state])\n",
    "    old_pos = list(agent_pos)  # Save old position\n",
    "    move_agent(action)\n",
    "    steps += 1\n",
    "    reward = get_reward()\n",
    "    next_state = tuple(agent_pos)\n",
    "\n",
    "    # Q-Learning update rule\n",
    "    Q_table[state][action] += LEARNING_RATE * (\n",
    "                reward + DISCOUNT_FACTOR * np.max(Q_table[next_state]) - Q_table[state][action])\n",
    "\n",
    "    # Reset agent if goal or red circle reached\n",
    "    if agent_pos == green_circle or agent_pos in red_circles:\n",
    "        scores.append(score)\n",
    "        steps_per_episode.append(steps)\n",
    "        time_spent.append(time.time() - start_time)\n",
    "        print(f\"Episode {len(scores)}: Score = {score}, Steps = {steps}, Time = {time_spent[-1]:.2f}s\")\n",
    "        reset()\n",
    "\n",
    "    EPSILON = max(0.01, EPSILON * 0.995)  # Gradually reduce exploration\n",
    "\n",
    "\n",
    "def plot_metrics():\n",
    "    \"\"\"Plot scores and time spent after training.\"\"\"\n",
    "    plt.figure(figsize=(10, 5))\n",
    "    plt.subplot(1, 2, 1)\n",
    "    plt.plot(scores, label=\"Score\")\n",
    "    plt.xlabel(\"Episode\")\n",
    "    plt.ylabel(\"Score\")\n",
    "    plt.title(\"Scores Over Time\")\n",
    "    plt.legend()\n",
    "\n",
    "    plt.subplot(1, 2, 2)\n",
    "    plt.plot(steps_per_episode, label=\"Steps\")\n",
    "    plt.xlabel(\"Episode\")\n",
    "    plt.ylabel(\"Steps Taken\")\n",
    "    plt.title(\"Steps Per Episode\")\n",
    "    plt.legend()\n",
    "\n",
    "    plt.tight_layout()\n",
    "    plt.show()\n",
    "\n",
    "\n",
    "def main():\n",
    "    \"\"\"Main game loop.\"\"\"\n",
    "    clock = pygame.time.Clock()\n",
    "    running = True\n",
    "    episodes = 0\n",
    "    max_episodes = 1000  # Stop after 1000 episodes\n",
    "\n",
    "    while running and episodes < max_episodes:\n",
    "        for event in pygame.event.get():\n",
    "            if event.type == pygame.QUIT:\n",
    "                running = False\n",
    "\n",
    "        train_q_learning()  # Train agent at each frame\n",
    "        draw_grid()\n",
    "        pygame.display.flip()\n",
    "        clock.tick(10)  # Control the game speed\n",
    "        episodes += 1\n",
    "\n",
    "    pygame.quit()\n",
    "    plot_metrics()  # Show evaluation metrics\n",
    "\n",
    "\n",
    "if __name__ == \"__main__\":\n",
    "    main()"
   ]
  },
  {
   "attachments": {
    "b7e90906-32ee-451c-945b-b56c14625c41.png": {
     "image/png": "[encoded data removed]"
    }
   },
   "cell_type": "markdown",
   "id": "5f4788a1-5ce9-4049-a71b-6d7c8aa1a1f3",
   "metadata": {},
   "source": [
    "Here is a picture of th game window showing the agent, obstacles, and the goal.\n",
    "\n",
    "![image.png](attachment:b7e90906-32ee-451c-945b-b56c14625c41.png)"
   ]
  },
  {
   "cell_type": "markdown",
   "id": "0a2f5bf3-5c93-4d53-a626-c632bca1e2ef",
   "metadata": {},
   "source": [
    "## Conclusion"
   ]
  },
  {
   "cell_type": "markdown",
   "id": "7f528f2f-eec0-445b-baea-11ae1ca07a32",
   "metadata": {},
   "source": [
    "This project successfully demonstrates how an agent can learn optimal navigation in a grid-based environment using Q-Learning. Over multiple episodes, the agent improves its performance, efficiently reaching the goal while avoiding obstacles. The reward system and gradual exploration decay play a critical role in shaping the agent's behavior, highlighting key RL principles such as trial-and-error learning and policy optimization. The implementation not only provides a hands-on understanding of RL but also serves as a starting point for more complex scenarios, such as multi-agent environments or neural network-based learning. This project reinforces the importance of balancing exploration and exploitation and underscores RL's potential for solving real-world problems in navigation, decision-making, and control systems."
   ]
  }
 ],
 "metadata": {
  "kernelspec": {
   "display_name": "Python 3 (ipykernel)",
   "language": "python",
   "name": "python3"
  },
  "language_info": {
   "codemirror_mode": {
    "name": "ipython",
    "version": 3
   },
   "file_extension": ".py",
   "mimetype": "text/x-python",
   "name": "python",
   "nbconvert_exporter": "python",
   "pygments_lexer": "ipython3",
   "version": "3.12.4"
  }
 },
 "nbformat": 4,
 "nbformat_minor": 5
}
